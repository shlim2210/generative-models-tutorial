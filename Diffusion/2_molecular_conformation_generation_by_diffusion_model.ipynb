{
  "cells": [
    {
      "cell_type": "markdown",
      "metadata": {
        "id": "UUs095_TF3cz"
      },
      "source": [
        "\n",
        "# diffusion model (Explicit)\n",
        "\n",
        "    ↪ 원본 데이터에 noise를 주입하는 diffusion process와, noise를 제거하여 원본을 복원하는 reverse process로 구성된 생성모델\n",
        "\n",
        "    1) diffusion process : Px(x) --> Pz(Z)\n",
        "        ▢ 노이즈를 주입하여 패턴을 무너뜨림(noising)\n",
        "        ▢ Iterative Markov chain : q(z|x) ==> Σq(Xt|Xt-1) : x1 ~ xt 모두 latent variable\n",
        "            ↪ diffusion process는 학습하지 않음\n",
        "    \n",
        "    2) reverse process : Pz(z) --> P'x(x)\n",
        "        ▢ 패턴을 다시 복원하는 조건부 pdf를 학습(denoising)\n",
        "        ▢ Iterative Markov chain : pθ(x|z)\n",
        "            ↪ 이전의 상태(t-1)에만 의존해서 다음 상태(t) 확률을 예측하여 학습\n",
        "\n",
        "        ✔ x_tilde = αx + (1-α)ε\n",
        "\n",
        "            α : 추가되는 노이즈의 양을 결정하는 스칼라. x와 noise의 비율. alpha = 1-beta이며, 현재 시간 단계까지의 노이즈는 누적곱인 (cumprod(alpha))를 alpha_bars로 사용함.\n",
        "            ε : 평균이 0이고 분산이 1인 정규분포에서 샘플링된 noise\n",
        "\n",
        "\n",
        "# diffusion Terms\n",
        "\n",
        "    - beta schedule : 각 diffusion 단계에서 추가되는 노이즈는 '베타'라는 매개변수에 의해 제어됨. beta schedule은 모든 단계들에서 사용되는 일련의 beta값들을 의미함\n",
        "\n",
        "        ㅁ beta schedule은 각 diffusion 단계에서 발생하는 노이즈의 양과 유형을 정의 함.\n",
        "\n",
        "        ㅁ sigmoid : 시작과 끝의 변화량은 작고 중간 변화량이 큰 함수 모양의 노이즈를 추가\n",
        "\n",
        "        ㅁ quad, linear(일정한 증가), const(모든 단계에서 고정된, 동일한 베타 값), jsd(모델의 예측과 실제 데이터 간의 차이가 각 단계에서 최소화 되도록 베타 값을 최적화)\n",
        "\n"
      ]
    },
    {
      "cell_type": "markdown",
      "source": [
        "#### Reference\n",
        "GeoDiff: a Geometric Diffusion Model for Molecular Conformation Generation\n",
        "\n",
        "https://github.com/MinkaiXu/GeoDiff"
      ],
      "metadata": {
        "id": "cJulgbwE5wn9"
      }
    },
    {
      "cell_type": "code",
      "execution_count": 1,
      "metadata": {
        "colab": {
          "base_uri": "https://localhost:8080/"
        },
        "id": "IIqa-GMbto0W",
        "outputId": "9ed43e20-b1d0-4279-fb62-017c96afb73a"
      },
      "outputs": [
        {
          "output_type": "stream",
          "name": "stdout",
          "text": [
            "Mounted at /content/drive\n"
          ]
        }
      ],
      "source": [
        "from google.colab import drive\n",
        "drive.mount('/content/drive', force_remount=True)"
      ]
    },
    {
      "cell_type": "code",
      "execution_count": 2,
      "metadata": {
        "colab": {
          "base_uri": "https://localhost:8080/"
        },
        "id": "K_CJ8lVMmxrW",
        "outputId": "ee8cd549-c380-4852-c275-d97955c0ab74"
      },
      "outputs": [
        {
          "output_type": "stream",
          "name": "stdout",
          "text": [
            "Collecting deepchem\n",
            "  Downloading deepchem-2.7.1-py3-none-any.whl (693 kB)\n",
            "\u001b[2K     \u001b[90m━━━━━━━━━━━━━━━━━━━━━━━━━━━━━━━━━━━━━━━━\u001b[0m \u001b[32m693.2/693.2 kB\u001b[0m \u001b[31m6.8 MB/s\u001b[0m eta \u001b[36m0:00:00\u001b[0m\n",
            "\u001b[?25hRequirement already satisfied: joblib in /usr/local/lib/python3.10/dist-packages (from deepchem) (1.3.2)\n",
            "Requirement already satisfied: numpy>=1.21 in /usr/local/lib/python3.10/dist-packages (from deepchem) (1.23.5)\n",
            "Requirement already satisfied: pandas in /usr/local/lib/python3.10/dist-packages (from deepchem) (1.5.3)\n",
            "Requirement already satisfied: scikit-learn in /usr/local/lib/python3.10/dist-packages (from deepchem) (1.2.2)\n",
            "Collecting scipy<1.9 (from deepchem)\n",
            "  Downloading scipy-1.8.1-cp310-cp310-manylinux_2_17_x86_64.manylinux2014_x86_64.whl (42.2 MB)\n",
            "\u001b[2K     \u001b[90m━━━━━━━━━━━━━━━━━━━━━━━━━━━━━━━━━━━━━━━━\u001b[0m \u001b[32m42.2/42.2 MB\u001b[0m \u001b[31m41.5 MB/s\u001b[0m eta \u001b[36m0:00:00\u001b[0m\n",
            "\u001b[?25hCollecting rdkit (from deepchem)\n",
            "  Downloading rdkit-2023.9.1-cp310-cp310-manylinux_2_17_x86_64.manylinux2014_x86_64.whl (30.5 MB)\n",
            "\u001b[2K     \u001b[90m━━━━━━━━━━━━━━━━━━━━━━━━━━━━━━━━━━━━━━━━\u001b[0m \u001b[32m30.5/30.5 MB\u001b[0m \u001b[31m59.0 MB/s\u001b[0m eta \u001b[36m0:00:00\u001b[0m\n",
            "\u001b[?25hRequirement already satisfied: python-dateutil>=2.8.1 in /usr/local/lib/python3.10/dist-packages (from pandas->deepchem) (2.8.2)\n",
            "Requirement already satisfied: pytz>=2020.1 in /usr/local/lib/python3.10/dist-packages (from pandas->deepchem) (2023.3.post1)\n",
            "Requirement already satisfied: Pillow in /usr/local/lib/python3.10/dist-packages (from rdkit->deepchem) (9.4.0)\n",
            "Requirement already satisfied: threadpoolctl>=2.0.0 in /usr/local/lib/python3.10/dist-packages (from scikit-learn->deepchem) (3.2.0)\n",
            "Requirement already satisfied: six>=1.5 in /usr/local/lib/python3.10/dist-packages (from python-dateutil>=2.8.1->pandas->deepchem) (1.16.0)\n",
            "Installing collected packages: scipy, rdkit, deepchem\n",
            "  Attempting uninstall: scipy\n",
            "    Found existing installation: scipy 1.11.3\n",
            "    Uninstalling scipy-1.11.3:\n",
            "      Successfully uninstalled scipy-1.11.3\n",
            "\u001b[31mERROR: pip's dependency resolver does not currently take into account all the packages that are installed. This behaviour is the source of the following dependency conflicts.\n",
            "lida 0.0.10 requires fastapi, which is not installed.\n",
            "lida 0.0.10 requires kaleido, which is not installed.\n",
            "lida 0.0.10 requires python-multipart, which is not installed.\n",
            "lida 0.0.10 requires uvicorn, which is not installed.\u001b[0m\u001b[31m\n",
            "\u001b[0mSuccessfully installed deepchem-2.7.1 rdkit-2023.9.1 scipy-1.8.1\n",
            "Requirement already satisfied: rdkit in /usr/local/lib/python3.10/dist-packages (2023.9.1)\n",
            "Requirement already satisfied: numpy in /usr/local/lib/python3.10/dist-packages (from rdkit) (1.23.5)\n",
            "Requirement already satisfied: Pillow in /usr/local/lib/python3.10/dist-packages (from rdkit) (9.4.0)\n"
          ]
        }
      ],
      "source": [
        "!pip install deepchem\n",
        "!pip install rdkit"
      ]
    },
    {
      "cell_type": "code",
      "execution_count": 3,
      "metadata": {
        "id": "XqNqNILgm6Uv"
      },
      "outputs": [],
      "source": [
        "import sys\n",
        "import os\n",
        "import pickle\n",
        "import copy\n",
        "import json\n",
        "from collections import defaultdict\n",
        "import argparse\n",
        "import networkx as nx\n",
        "from tqdm import tqdm\n",
        "from copy import deepcopy\n",
        "\n",
        "import numpy as np\n",
        "import random\n",
        "\n",
        "import torch\n",
        "from torch import nn\n",
        "import torch.nn.functional as F\n",
        "\n",
        "import rdkit\n",
        "from rdkit import Chem\n",
        "from rdkit.Chem.rdchem import Mol, HybridizationType, BondType\n",
        "from rdkit import RDLogger"
      ]
    },
    {
      "cell_type": "code",
      "execution_count": 4,
      "metadata": {
        "colab": {
          "base_uri": "https://localhost:8080/"
        },
        "id": "g6mFUQVcm2JE",
        "outputId": "1a13501d-ccc1-4cbf-8509-bc28b0a5d584"
      },
      "outputs": [
        {
          "output_type": "stream",
          "name": "stdout",
          "text": [
            "Python ver. : 3.10.12 (main, Jun 11 2023, 05:26:28) [GCC 11.4.0]\n",
            "Torch ver. : 2.1.0+cu118\n",
            "\u001b[2K     \u001b[90m━━━━━━━━━━━━━━━━━━━━━━━━━━━━━━━━━━━━━━━━\u001b[0m \u001b[32m10.2/10.2 MB\u001b[0m \u001b[31m57.7 MB/s\u001b[0m eta \u001b[36m0:00:00\u001b[0m\n",
            "\u001b[2K     \u001b[90m━━━━━━━━━━━━━━━━━━━━━━━━━━━━━━━━━━━━━━━━\u001b[0m \u001b[32m4.9/4.9 MB\u001b[0m \u001b[31m28.7 MB/s\u001b[0m eta \u001b[36m0:00:00\u001b[0m\n",
            "\u001b[?25h  Preparing metadata (setup.py) ... \u001b[?25l\u001b[?25hdone\n",
            "\u001b[2K     \u001b[90m━━━━━━━━━━━━━━━━━━━━━━━━━━━━━━━━━━━━━━━━\u001b[0m \u001b[32m531.9/531.9 kB\u001b[0m \u001b[31m6.1 MB/s\u001b[0m eta \u001b[36m0:00:00\u001b[0m\n",
            "\u001b[2K     \u001b[90m━━━━━━━━━━━━━━━━━━━━━━━━━━━━━━━━━━━━━━━━\u001b[0m \u001b[32m41.7/41.7 kB\u001b[0m \u001b[31m5.0 MB/s\u001b[0m eta \u001b[36m0:00:00\u001b[0m\n",
            "\u001b[?25h  Building wheel for torch-geometric (setup.py) ... \u001b[?25l\u001b[?25hdone\n",
            "\u001b[2K     \u001b[90m━━━━━━━━━━━━━━━━━━━━━━━━━━━━━━━━━━━━━━━━\u001b[0m \u001b[32m3.3/3.3 MB\u001b[0m \u001b[31m38.0 MB/s\u001b[0m eta \u001b[36m0:00:00\u001b[0m\n",
            "\u001b[?25htorch_geometric ver. : 1.7.2\n"
          ]
        }
      ],
      "source": [
        "print(f'Python ver. : {sys.version}')\n",
        "os.environ['TORCH'] = torch.__version__\n",
        "print(f'Torch ver. : {torch.__version__}')\n",
        "\n",
        "!pip install -q torch-scatter -f https://data.pyg.org/whl/torch-${TORCH}.html\n",
        "!pip install -q torch-sparse -f https://data.pyg.org/whl/torch-${TORCH}.html\n",
        "!pip install -q git+https://github.com/pyg-team/pytorch_geometric.git@1.7.2\n",
        "!pip install -q torch-cluster -f https://data.pyg.org/whl/torch-${TORCH}.html\n",
        "\n",
        "import torch_cluster\n",
        "import torch_geometric\n",
        "print(f'torch_geometric ver. : {torch_geometric.__version__}')\n",
        "from torch_geometric.nn import radius_graph, radius\n",
        "from torch_geometric.data import Data, Dataset, DataLoader, Batch\n",
        "from torch_geometric.utils import dropout, to_dense_adj, dense_to_sparse, remove_self_loops, to_networkx\n",
        "from torch_sparse import coalesce\n",
        "from torch_scatter import scatter_add, scatter_mean"
      ]
    },
    {
      "cell_type": "code",
      "execution_count": 5,
      "metadata": {
        "colab": {
          "base_uri": "https://localhost:8080/"
        },
        "id": "xH2h_zWdNiDa",
        "outputId": "67b83901-6ca8-49ab-eb61-8e1e3bec9545"
      },
      "outputs": [
        {
          "output_type": "stream",
          "name": "stdout",
          "text": [
            "Namespace(hidden_dim=128, num_convs=6, num_convs_local=4, cutoff=10.0, beta_start=1e-07, beta_end=0.002, num_diffusion_timesteps=5000, edge_order=3, edge_encoder='mlp', smooth_conv=False, n_steps=5000, step_lr=1e-06, w_global=1.0, global_start_sigma=0.5, clip=2000.0, clip_local=None, max_grad_norm=10000.0, scheduler_factor=0.6, scheduler_patience=10, device=device(type='cuda', index=0))\n"
          ]
        }
      ],
      "source": [
        "train_dataset_path = '/content/drive/MyDrive/Colab Notebooks/Python/Portfolio/dataset/QM9/train_data_40k.pkl'\n",
        "val_dataset_path = '/content/drive/MyDrive/Colab Notebooks/Python/Portfolio/dataset/QM9/val_data_5k.pkl'\n",
        "test_dataset_path = '/content/drive/MyDrive/Colab Notebooks/Python/Portfolio/dataset/QM9/test_data_1k.pkl'\n",
        "\n",
        "params = {\n",
        "    'hidden_dim': 128,\n",
        "    'num_convs': 6,\n",
        "    'num_convs_local': 4,\n",
        "    'cutoff': 10.0,\n",
        "\n",
        "    'beta_start': 1.e-7,\n",
        "    'beta_end':  2.e-3,\n",
        "    'num_diffusion_timesteps':5000,\n",
        "    'edge_order': 3,\n",
        "    'edge_encoder': 'mlp',\n",
        "    'smooth_conv': False,\n",
        "\n",
        "    'n_steps': 5000,\n",
        "    'step_lr': 1e-6,\n",
        "    'w_global': 1.0,\n",
        "    'global_start_sigma': 0.5,\n",
        "    'clip': 2000.0,\n",
        "    'clip_local': None,\n",
        "    'max_grad_norm': 10000.0,\n",
        "    'scheduler_factor': 0.6,\n",
        "    'scheduler_patience': 10,\n",
        "\n",
        "    'device': torch.device(\"cuda:0\" if torch.cuda.is_available() else \"cpu\")\n",
        "}\n",
        "\n",
        "parser = argparse.ArgumentParser()\n",
        "\n",
        "for key, value in params.items():\n",
        "    parser.add_argument('--' + key, default=value)\n",
        "\n",
        "args = parser.parse_args('')\n",
        "print(args)"
      ]
    },
    {
      "cell_type": "code",
      "execution_count": 6,
      "metadata": {
        "id": "a4yUZ0vPSsbl"
      },
      "outputs": [],
      "source": [
        "class ConformationDataset(Dataset):\n",
        "\n",
        "    def __init__(self, path, transform=None):\n",
        "        super().__init__()\n",
        "        with open(path, 'rb') as f:\n",
        "            self.data = pickle.load(f)\n",
        "            self.data = self.data\n",
        "        self.transform = transform\n",
        "        self.atom_types = self._atom_types()\n",
        "        self.edge_types = self._edge_types()\n",
        "\n",
        "    def __getitem__(self, idx):\n",
        "\n",
        "        data = self.data[idx].clone()\n",
        "        if self.transform is not None:\n",
        "            data = self.transform(data)\n",
        "        return data\n",
        "\n",
        "    def __len__(self):\n",
        "        return len(self.data)\n",
        "\n",
        "\n",
        "    def _atom_types(self):\n",
        "        atom_types = set()\n",
        "        for graph in self.data:\n",
        "            atom_types.update(graph.atom_type.tolist())\n",
        "        return sorted(atom_types)\n",
        "\n",
        "    def _edge_types(self):\n",
        "        edge_types = set()\n",
        "        for graph in self.data:\n",
        "            edge_types.update(graph.edge_type.tolist())\n",
        "        return sorted(edge_types)\n",
        "\n",
        "class PackedConformationDataset(ConformationDataset):\n",
        "    def __init__(self, path, transform=None):\n",
        "        super().__init__(path, transform)\n",
        "        #k:v = idx: data_obj\n",
        "        self._pack_data_by_mol()\n",
        "\n",
        "    def _pack_data_by_mol(self):\n",
        "        self._packed_data = defaultdict(list)\n",
        "        if hasattr(self.data, 'idx'):\n",
        "            for i in range(len(self.data)):\n",
        "                self._packed_data[self.data[i].idx.item()].append(self.data[i])\n",
        "        else:\n",
        "            for i in range(len(self.data)):\n",
        "                self._packed_data[self.data[i].smiles].append(self.data[i])\n",
        "        print('[Packed] %d Molecules, %d Conformations.' % (len(self._packed_data), len(self.data)))\n",
        "\n",
        "        new_data = []\n",
        "        cnt = 0\n",
        "        for k, v in self._packed_data.items():\n",
        "            data = copy.deepcopy(v[0])\n",
        "            all_pos = []\n",
        "            for i in range(len(v)):\n",
        "                all_pos.append(v[i].pos)\n",
        "            data.pos_ref = torch.cat(all_pos, 0) # (num_conf*num_node, 3)\n",
        "            data.num_pos_ref = torch.tensor([len(all_pos)], dtype=torch.long)\n",
        "\n",
        "            if hasattr(data, 'totalenergy'):\n",
        "                del data.totalenergy\n",
        "            if hasattr(data, 'boltzmannweight'):\n",
        "                del data.boltzmannweight\n",
        "            new_data.append(data)\n",
        "        self.new_data = new_data\n",
        "\n",
        "    def __getitem__(self, idx):\n",
        "        data = self.new_data[idx].clone()\n",
        "        if self.transform is not None:\n",
        "            data = self.transform(data)\n",
        "        return data\n",
        "\n",
        "    def __len__(self):\n",
        "        return len(self.new_data)\n",
        "\n",
        "class CountNodesPerGraph(object):\n",
        "    def __init__(self) -> None:\n",
        "        super().__init__()\n",
        "\n",
        "    def __call__(self, data):\n",
        "        data.num_nodes_per_graph = torch.LongTensor([data.num_nodes])\n",
        "        return data\n",
        "\n",
        "def inf_iterator(iterable):\n",
        "    iterator = iterable.__iter__()\n",
        "    while True:\n",
        "        try:\n",
        "            yield iterator.__next__()\n",
        "        except StopIteration:\n",
        "            iterator = iterable.__iter__()\n",
        "\n",
        "def repeat_data(data, num_repeat):\n",
        "    datas = [data.clone() for i in range(num_repeat)]\n",
        "    return Batch.from_data_list(datas)\n"
      ]
    },
    {
      "cell_type": "code",
      "execution_count": 7,
      "metadata": {
        "colab": {
          "base_uri": "https://localhost:8080/"
        },
        "id": "TALqJGUArkiR",
        "outputId": "13ecb24f-bf4a-4021-ec00-d6159f4a2290"
      },
      "outputs": [
        {
          "output_type": "stream",
          "name": "stdout",
          "text": [
            "{rdkit.Chem.rdchem.BondType.UNSPECIFIED: 0, rdkit.Chem.rdchem.BondType.SINGLE: 1, rdkit.Chem.rdchem.BondType.DOUBLE: 2, rdkit.Chem.rdchem.BondType.TRIPLE: 3, rdkit.Chem.rdchem.BondType.QUADRUPLE: 4, rdkit.Chem.rdchem.BondType.QUINTUPLE: 5, rdkit.Chem.rdchem.BondType.HEXTUPLE: 6, rdkit.Chem.rdchem.BondType.ONEANDAHALF: 7, rdkit.Chem.rdchem.BondType.TWOANDAHALF: 8, rdkit.Chem.rdchem.BondType.THREEANDAHALF: 9, rdkit.Chem.rdchem.BondType.FOURANDAHALF: 10, rdkit.Chem.rdchem.BondType.FIVEANDAHALF: 11, rdkit.Chem.rdchem.BondType.AROMATIC: 12, rdkit.Chem.rdchem.BondType.IONIC: 13, rdkit.Chem.rdchem.BondType.HYDROGEN: 14, rdkit.Chem.rdchem.BondType.THREECENTER: 15, rdkit.Chem.rdchem.BondType.DATIVEONE: 16, rdkit.Chem.rdchem.BondType.DATIVE: 17, rdkit.Chem.rdchem.BondType.DATIVEL: 18, rdkit.Chem.rdchem.BondType.DATIVER: 19, rdkit.Chem.rdchem.BondType.OTHER: 20, rdkit.Chem.rdchem.BondType.ZERO: 21}\n",
            "{0: 'UNSPECIFIED', 1: 'SINGLE', 2: 'DOUBLE', 3: 'TRIPLE', 4: 'QUADRUPLE', 5: 'QUINTUPLE', 6: 'HEXTUPLE', 7: 'ONEANDAHALF', 8: 'TWOANDAHALF', 9: 'THREEANDAHALF', 10: 'FOURANDAHALF', 11: 'FIVEANDAHALF', 12: 'AROMATIC', 13: 'IONIC', 14: 'HYDROGEN', 15: 'THREECENTER', 16: 'DATIVEONE', 17: 'DATIVE', 18: 'DATIVEL', 19: 'DATIVER', 20: 'OTHER', 21: 'ZERO'}\n",
            "[Packed] 1000 Molecules, 125216 Conformations.\n",
            "ConformationDataset(200000) ConformationDataset(25000) PackedConformationDataset(1000)\n"
          ]
        }
      ],
      "source": [
        "BOND_TYPES = {t: i for i, t in enumerate(BondType.names.values())}\n",
        "BOND_NAMES = {i: t for i, t in enumerate(BondType.names.keys())}\n",
        "\n",
        "print(BOND_TYPES)\n",
        "print(BOND_NAMES)\n",
        "\n",
        "transforms = CountNodesPerGraph()\n",
        "train_set = ConformationDataset(train_dataset_path, transform=transforms)\n",
        "val_set = ConformationDataset(val_dataset_path, transform=transforms)\n",
        "test_set = PackedConformationDataset(test_dataset_path, transform=transforms)\n",
        "\n",
        "print(train_set, val_set, test_set)"
      ]
    },
    {
      "cell_type": "code",
      "execution_count": 8,
      "metadata": {
        "id": "PSYvrCbM9-1T"
      },
      "outputs": [],
      "source": [
        "# 원자 간의 직접적인 상호작용 뿐만 아니라 간접적인 상호작용까지 반영한 분자 그래프 생성\n",
        "def extend_graph_order_radius(num_nodes, pos, edge_index, edge_type, batch, order=3, cutoff=10.0,\n",
        "                              extend_order=True, extend_radius=True):\n",
        "    # train만 적용\n",
        "    if extend_order:\n",
        "        edge_index, edge_type = _extend_graph_order(\n",
        "            num_nodes=num_nodes,\n",
        "            edge_index=edge_index,\n",
        "            edge_type=edge_type, order=order\n",
        "        )\n",
        "\n",
        "    if extend_radius:\n",
        "        edge_index, edge_type = _extend_to_radius_graph(\n",
        "            pos=pos,\n",
        "            edge_index=edge_index,\n",
        "            edge_type=edge_type,\n",
        "            cutoff=cutoff,\n",
        "            batch=batch,\n",
        "        )\n",
        "\n",
        "    return edge_index, edge_type\n",
        "\n",
        "def _extend_graph_order(num_nodes, edge_index, edge_type, order=3):\n",
        "    def binarize(x):\n",
        "        return torch.where(x > 0, torch.ones_like(x), torch.zeros_like(x))\n",
        "\n",
        "    def get_higher_order_adj_matrix(adj, order):\n",
        "        adj_mats = [torch.eye(adj.size(0), dtype=torch.long, device=adj.device), \\\n",
        "                    binarize(adj + torch.eye(adj.size(0), dtype=torch.long, device=adj.device))]\n",
        "\n",
        "        for i in range(2, order+1):\n",
        "            adj_mats.append(binarize(adj_mats[i-1] @ adj_mats[1]))\n",
        "        order_mat = torch.zeros_like(adj)\n",
        "\n",
        "        for i in range(1, order+1):\n",
        "            order_mat += (adj_mats[i] - adj_mats[i-1]) * i\n",
        "\n",
        "        return order_mat\n",
        "\n",
        "    num_types = len(BOND_TYPES)\n",
        "\n",
        "    N = num_nodes\n",
        "    # edge_index를 dense representation으로\n",
        "    adj = to_dense_adj(edge_index).squeeze(0) #(N, N)\n",
        "    # 연결된 결합 차수 반영\n",
        "    adj_order = get_higher_order_adj_matrix(adj, order)  # (N, N)\n",
        "    # edge_index를 결합 종류가 반영된 dense representation으로\n",
        "    type_mat = to_dense_adj(edge_index, edge_attr=edge_type).squeeze(0)   # (N, N)\n",
        "    type_highorder = torch.where(adj_order > 1, num_types + adj_order - 1, torch.zeros_like(adj_order))\n",
        "    assert (type_mat * type_highorder == 0).all()\n",
        "    type_new = type_mat + type_highorder\n",
        "\n",
        "    new_edge_index, new_edge_type = dense_to_sparse(type_new)\n",
        "    _, edge_order = dense_to_sparse(adj_order)\n",
        "\n",
        "    # data.bond_edge_index = data.edge_index  # Save original edges\n",
        "    # 잠재적 중복이 제거되고 가장자리 유형이 병합될 수 있는 정규 형식의 그래프입니다.  coalesce 기능을 사용하여 edge 인덱스 및 유형에 중복되거나 불필요한 항목이 없는지 확인합니다.\n",
        "    new_edge_index, new_edge_type = coalesce(new_edge_index, new_edge_type.long(), N, N) # modify data\n",
        "\n",
        "    return new_edge_index, new_edge_type\n",
        "\n",
        "\n",
        "def _extend_to_radius_graph(pos, edge_index, edge_type, cutoff, batch, unspecified_type_number=0):\n",
        "    assert edge_type.dim() == 1\n",
        "    N = pos.size(0)\n",
        "\n",
        "    # sparse representation\n",
        "    bgraph_adj = torch.sparse.LongTensor(\n",
        "        edge_index,\n",
        "        edge_type,\n",
        "        torch.Size([N, N])\n",
        "    ).to(pos.device)\n",
        "\n",
        "    # 반경(cutoff) 이내의 모든 점(pos)를 edge_index로 표현\n",
        "    rgraph_edge_index = radius_graph(pos, r=cutoff, batch=batch).to(pos.device)    # (2, E_r)\n",
        "    # rgraph_edge_index의 sparse representation\n",
        "    rgraph_adj = torch.sparse.LongTensor(\n",
        "        rgraph_edge_index,\n",
        "        torch.ones(rgraph_edge_index.size(1)).long().to(pos.device) * unspecified_type_number,\n",
        "        torch.Size([N, N])\n",
        "    )\n",
        "    composed_adj = (bgraph_adj + rgraph_adj).coalesce()  # Sparse (N, N, T)\n",
        "    new_edge_index = composed_adj.indices()\n",
        "    new_edge_type = composed_adj.values().long()\n",
        "\n",
        "    return new_edge_index, new_edge_type\n",
        "\n",
        "# 연결된 두 node의 유클리드 거리 계\n",
        "def get_distance(pos, edge_index):\n",
        "    return (pos[edge_index[0]] - pos[edge_index[1]]).norm(dim=-1)\n",
        "\n",
        "def get_sigmoid_beta_schedule(beta_start, beta_end, num_diffusion_timesteps) :\n",
        "    def sigmoid(x) :\n",
        "        return 1 / (np.exp(-x)+1)\n",
        "\n",
        "    betas = np.linspace(-6, 6, num_diffusion_timesteps)\n",
        "    betas = sigmoid(betas) * ( beta_end - beta_start) + beta_start\n",
        "    betas = torch.from_numpy(betas).float()\n",
        "\n",
        "    assert betas.shape == (num_diffusion_timesteps, )\n",
        "    return betas\n",
        "\n",
        "# edge로 연결된 node 쌍의 attr을 곱해서, edge_attr과 이어붙임\n",
        "def assemble_atom_pair_feature(node_attr, edge_index, edge_attr):\n",
        "    h_row, h_col = node_attr[edge_index[0]], node_attr[edge_index[1]]\n",
        "    h_pair = torch.cat([h_row*h_col, edge_attr], dim=-1)    # (E, 2H)\n",
        "    return h_pair\n",
        "\n",
        "def is_train_edge(edge_index) :\n",
        "    return torch.ones(edge_index.size(1), device=edge_index.device).bool()\n",
        "\n",
        "def eq_score(score_dist, pos, edge_index, edge_length):\n",
        "    # 노드 갯수\n",
        "    N = pos.size(0)\n",
        "    # 정규화된 directional derivatives. 두 node의 위치 차이를 edge_length로 나눔(방향 미분)\n",
        "    dd_dr = (1. / edge_length) * (pos[edge_index[0]] - pos[edge_index[1]])   # (E, 3)\n",
        "    # node index에 따라 score 분산 합 계산\n",
        "    score_pos = scatter_add(dd_dr * score_dist, edge_index[0], dim=0, dim_size=N) \\\n",
        "        + scatter_add(- dd_dr * score_dist, edge_index[1], dim=0, dim_size=N) # (N, 3)\n",
        "    return score_pos\n",
        "\n",
        "def clip_norm(vec, limit, p=2):\n",
        "    # 벡터의 유클리드 거리(p=2) 계산\n",
        "    norm = torch.norm(vec, dim=-1, p=2, keepdim=True)\n",
        "    # norm이 limit보다 클 경우 항상 limit값을 리턴, limit보다 작거나 같을 경우 vec값을 리턴\n",
        "    denom = torch.where(norm > limit, limit / norm, torch.ones_like(norm))\n",
        "    return vec * denom\n",
        "\n",
        "def center_pos(pos, batch):\n",
        "    pos_center = pos - scatter_mean(pos, batch, dim=0)[batch]\n",
        "    return pos_center"
      ]
    },
    {
      "cell_type": "code",
      "execution_count": 9,
      "metadata": {
        "id": "1qIDhkGWaiRi"
      },
      "outputs": [],
      "source": [
        "class ShiftedSoftplus(torch.nn.Module):\n",
        "    def __init__(self):\n",
        "        super(ShiftedSoftplus, self).__init__()\n",
        "        self.shift = torch.log(torch.tensor(2.0)).item()\n",
        "\n",
        "    def forward(self, x):\n",
        "        return F.softplus(x) - self.shift\n",
        "\n",
        "\n",
        "class CFConv(torch_geometric.nn.MessagePassing):\n",
        "    def __init__(self, in_channels, out_channels, num_filters, mlp, cutoff, smooth):\n",
        "        super(CFConv, self).__init__(aggr='add')\n",
        "        self.lin1 = nn.Linear(in_channels, num_filters, bias=False)\n",
        "        self.lin2 = nn.Linear(num_filters, out_channels)\n",
        "        self.mlp = mlp\n",
        "        self.cutoff = cutoff\n",
        "        self.smooth = smooth\n",
        "        self.reset_parameters()\n",
        "\n",
        "    def reset_parameters(self):\n",
        "        torch.nn.init.xavier_uniform_(self.lin1.weight)\n",
        "        torch.nn.init.xavier_uniform_(self.lin2.weight)\n",
        "        self.lin2.bias.data.fill_(0)\n",
        "\n",
        "    def forward(self, x, edge_index, edge_attr, edge_length):\n",
        "        if edge_length != None :\n",
        "            C = (edge_length <= self.cutoff).float()\n",
        "            W = self.mlp(edge_attr) * C.view(-1, 1)\n",
        "        else :\n",
        "            W = self.mlp(edge_attr)\n",
        "\n",
        "        x = self.lin1(x)\n",
        "        x = self.propagate(edge_index, x=x, W=W)\n",
        "        x = self.lin2(x)\n",
        "        return x\n",
        "\n",
        "    def message(self, x_j, W):\n",
        "        return x_j * W\n",
        "\n",
        "\n",
        "class InteractionBlock(nn.Module):\n",
        "    def __init__(self, hidden_channels, num_gaussians, num_filters, cutoff, smooth):\n",
        "        super(InteractionBlock, self).__init__()\n",
        "        mlp = nn.Sequential(\n",
        "            nn.Linear(num_gaussians, num_filters),\n",
        "            ShiftedSoftplus(),\n",
        "            nn.Linear(num_filters, num_filters),\n",
        "        )\n",
        "        self.conv = CFConv(hidden_channels, hidden_channels, num_filters, mlp, cutoff, smooth)\n",
        "        self.act = ShiftedSoftplus()\n",
        "        self.lin = nn.Linear(hidden_channels, hidden_channels)\n",
        "\n",
        "    def forward(self, x, edge_index, edge_attr, edge_length):\n",
        "        x = self.conv(x, edge_index, edge_attr, edge_length)\n",
        "        x = self.act(x)\n",
        "        x = self.lin(x)\n",
        "        return x\n",
        "\n",
        "\n",
        "class SchNetEncoder(nn.Module):\n",
        "    def __init__(self, hidden_channels=128, num_filters=128,\n",
        "                num_interactions=6, edge_channels=100, cutoff=10.0, smooth=False):\n",
        "        super().__init__()\n",
        "\n",
        "        self.hidden_channels = hidden_channels\n",
        "        self.num_filters = num_filters\n",
        "        self.num_interactions = num_interactions\n",
        "        self.cutoff = cutoff\n",
        "\n",
        "        self.embedding = nn.Embedding(100, hidden_channels, max_norm=10.0)\n",
        "\n",
        "        self.interactions = nn.ModuleList()\n",
        "        for _ in range(num_interactions):\n",
        "            block = InteractionBlock(hidden_channels, edge_channels,\n",
        "                                     num_filters, cutoff, smooth)\n",
        "            self.interactions.append(block)\n",
        "\n",
        "    def forward(self, z, edge_index, edge_attr, edge_length=None, embed_node=True):\n",
        "        if embed_node:\n",
        "            assert z.dim() == 1 and z.dtype == torch.long\n",
        "            h = self.embedding(z)\n",
        "        else:\n",
        "            h = z\n",
        "        for interaction in self.interactions:\n",
        "            h = h + interaction(h, edge_index, edge_attr, edge_length)\n",
        "\n",
        "        return h\n",
        "\n",
        "class MLPEdgeEncoder(nn.Module):\n",
        "    def __init__(self, input_dim=1, hidden_dim=100, n_en_layers=3, dropout=0):\n",
        "        super().__init__()\n",
        "        self.input_dim = input_dim\n",
        "        self.hidden_dim = hidden_dim\n",
        "        self.n_en_layers = n_en_layers\n",
        "        self.bond_emb = nn.Embedding(100, embedding_dim=self.hidden_dim)\n",
        "        self.dropout = nn.Dropout(dropout)\n",
        "        self.layers = nn.ModuleList(\n",
        "            [nn.Linear(\n",
        "                self.input_dim if i==0 else self.hidden_dim,\n",
        "                self.hidden_dim) for i in range(self.n_en_layers)\n",
        "            ])\n",
        "\n",
        "    @property\n",
        "    def out_channels(self):\n",
        "        return self.hidden_dim\n",
        "\n",
        "    def encode(self, x) :\n",
        "        for i, layer in enumerate(self.layers, 1) :\n",
        "            x = layer(x)\n",
        "            if i != self.n_en_layers :\n",
        "                x = x.relu()\n",
        "            x = self.dropout(x)\n",
        "        return x\n",
        "\n",
        "    def forward(self, edge_length, edge_type):\n",
        "        d_emb = self.encode(edge_length) # (num_edge, hidden_dim)\n",
        "        edge_attr = self.bond_emb(edge_type) # (num_edge, hidden_dim)\n",
        "        return d_emb * edge_attr # (num_edge, hidden_dim)\n",
        "\n",
        "\n",
        "class DistMLP(nn.Module):\n",
        "    def __init__(self, hidden_dims, dropout=0):\n",
        "        super().__init__()\n",
        "        self.hidden_dims = hidden_dims\n",
        "        self.dropout = nn.Dropout(dropout)\n",
        "        self.layers = nn.ModuleList(\n",
        "            [nn.Linear(\n",
        "                self.hidden_dims[i-1],\n",
        "                self.hidden_dims[i]) for i in range(1, len(self.hidden_dims))\n",
        "            ])\n",
        "\n",
        "    def forward(self, x) :\n",
        "        for i, layer in enumerate(self.layers, 1) :\n",
        "            x = layer(x)\n",
        "            if i != len(self.layers) :\n",
        "                x = x.relu()\n",
        "            x = self.dropout(x)\n",
        "        return x"
      ]
    },
    {
      "cell_type": "code",
      "execution_count": 10,
      "metadata": {
        "id": "Xots8_zW_bKh"
      },
      "outputs": [],
      "source": [
        "class DiffusionModel(nn.Module) :\n",
        "    def __init__(self, args) :\n",
        "        super().__init__()\n",
        "        self.args = args\n",
        "\n",
        "        self.edge_encoder_global = MLPEdgeEncoder(hidden_dim=args.hidden_dim).to(self.args.device)\n",
        "        self.edge_encoder_local = MLPEdgeEncoder(hidden_dim=args.hidden_dim).to(self.args.device)\n",
        "\n",
        "        self.encoder_global = SchNetEncoder(\n",
        "            hidden_channels=args.hidden_dim,\n",
        "            num_filters=args.hidden_dim,\n",
        "            num_interactions=args.num_convs,\n",
        "            edge_channels=self.edge_encoder_global.out_channels,\n",
        "            cutoff=args.cutoff,\n",
        "        )\n",
        "\n",
        "        self.encoder_local = SchNetEncoder(\n",
        "            hidden_channels=args.hidden_dim,\n",
        "            num_filters=args.hidden_dim,\n",
        "            num_interactions=args.num_convs,\n",
        "            edge_channels=self.edge_encoder_local.out_channels,\n",
        "        )\n",
        "\n",
        "        self.grad_global_dist_mlp = DistMLP(\n",
        "            [2*args.hidden_dim, args.hidden_dim, args.hidden_dim // 2, 1],\n",
        "        )\n",
        "\n",
        "        self.grad_local_dist_mlp = DistMLP(\n",
        "            [2*args.hidden_dim, args.hidden_dim, args.hidden_dim // 2, 1],\n",
        "        )\n",
        "\n",
        "        self.model_global = nn.ModuleList([self.edge_encoder_global, self.encoder_global, self.grad_global_dist_mlp])\n",
        "        self.model_local = nn.ModuleList([self.edge_encoder_local, self.encoder_local, self.grad_local_dist_mlp])\n",
        "\n",
        "        # sequence :  0(original data) ~ 4999(pure noise)\n",
        "        # betas : 각 sequnece에 추가되는 노이즈의 양을 결정하는 noise schedule\n",
        "        betas = get_sigmoid_beta_schedule(\n",
        "            beta_start=args.beta_start,\n",
        "            beta_end=args.beta_end,\n",
        "            num_diffusion_timesteps=args.num_diffusion_timesteps,\n",
        "        )\n",
        "        # alphas : 누적곱. 각 단계에서 original data의 보존된 정도를 나타냄\n",
        "        alphas = (1. - betas).cumprod(dim=0)\n",
        "\n",
        "        self.betas = nn.Parameter(betas, requires_grad=False)\n",
        "        self.alphas = nn.Parameter(alphas, requires_grad=False)\n",
        "        self.num_timesteps = self.betas.size(0)\n",
        "\n",
        "    def forward(self, atom_type, pos, bond_index, bond_type, batch, time_step,\n",
        "                edge_index=None, edge_type=None, edge_length=None, return_edges=False,\n",
        "                extend_order=True, extend_radius=True) :\n",
        "\n",
        "        N = atom_type.size(0)\n",
        "        if edge_index is None or edge_type is None or edge_length is None:\n",
        "            edge_index, edge_type = extend_graph_order_radius(\n",
        "                num_nodes=N,\n",
        "                pos=pos,\n",
        "                edge_index=bond_index,\n",
        "                edge_type=bond_type,\n",
        "                batch=batch,\n",
        "                order=self.args.edge_order,\n",
        "                cutoff=self.args.cutoff,\n",
        "                extend_order=extend_order,\n",
        "                extend_radius=extend_radius,\n",
        "            )\n",
        "            # edge_index로 연결된 pos의 거리\n",
        "            edge_length = get_distance(pos, edge_index).unsqueeze(-1)   # (E, 1)\n",
        "\n",
        "        local_edge_mask = edge_type > 0  # (E, )\n",
        "        sigma_edge = torch.ones(size=(edge_index.size(1), 1), device=pos.device)  # (E, 1)\n",
        "\n",
        "        edge_attr_global = self.edge_encoder_global(\n",
        "            edge_length=edge_length,\n",
        "            edge_type=edge_type\n",
        "        )\n",
        "\n",
        "        # Global\n",
        "        node_attr_global = self.encoder_global(\n",
        "            z=atom_type,\n",
        "            edge_index=edge_index,\n",
        "            edge_length=edge_length,\n",
        "            edge_attr=edge_attr_global,\n",
        "        )\n",
        "\n",
        "        ## Assemble pairwise features\n",
        "        h_pair_global = assemble_atom_pair_feature(\n",
        "            node_attr=node_attr_global,\n",
        "            edge_index=edge_index,\n",
        "            edge_attr=edge_attr_global,\n",
        "        )    # (E_global, 2H)\n",
        "\n",
        "        ## Invariant features of edges (radius graph, global)\n",
        "        edge_inv_global = self.grad_global_dist_mlp(h_pair_global) * (1.0 / sigma_edge)    # (E_global, 1)\n",
        "\n",
        "        # Encoding local\n",
        "        edge_attr_local = self.edge_encoder_local(\n",
        "            edge_length=edge_length,\n",
        "            edge_type=edge_type\n",
        "        )   # Embed edges\n",
        "\n",
        "        # Local\n",
        "        node_attr_local = self.encoder_local(\n",
        "            z=atom_type,\n",
        "            edge_index=edge_index[:, local_edge_mask],\n",
        "            edge_attr=edge_attr_local[local_edge_mask],\n",
        "        )\n",
        "\n",
        "        ## Assemble pairwise features\n",
        "        h_pair_local = assemble_atom_pair_feature(\n",
        "            node_attr=node_attr_local,\n",
        "            edge_index=edge_index[:, local_edge_mask],\n",
        "            edge_attr=edge_attr_local[local_edge_mask],\n",
        "        )    # (E_local, 2H)\n",
        "\n",
        "        # Invariant features of edges (bond graph, local)\n",
        "        if isinstance(sigma_edge, torch.Tensor):\n",
        "            edge_inv_local = self.grad_local_dist_mlp(h_pair_local) * (1.0 / sigma_edge[local_edge_mask]) # (E_local, 1)\n",
        "        else:\n",
        "            edge_inv_local = self.grad_local_dist_mlp(h_pair_local) * (1.0 / sigma_edge) # (E_local, 1)\n",
        "\n",
        "        # train : True, test : False\n",
        "        if return_edges:\n",
        "            return edge_inv_global, edge_inv_local, edge_index, edge_type, edge_length, local_edge_mask\n",
        "        else:\n",
        "            return edge_inv_global, edge_inv_local\n",
        "\n",
        "\n",
        "    def get_loss(self, atom_type, pos, bond_index, bond_type, batch,\n",
        "                 num_nodes_per_graph, num_graphs, anneal_power=2.0,\n",
        "                 return_unreduced_loss=False, return_unreduced_edge_loss=False,\n",
        "                 extend_order=True, extend_radius=True):\n",
        "\n",
        "        N = atom_type.size(0)\n",
        "        node2graph = batch  # (num_node, )\n",
        "\n",
        "        # 미러링된 랜덤한 timestep 생성\n",
        "        time_step = torch.randint(\n",
        "            0, self.num_timesteps, size=(num_graphs//2+1, ), device=pos.device)\n",
        "        time_step = torch.cat(\n",
        "            [time_step, self.num_timesteps-time_step-1], dim=0)[:num_graphs]\n",
        "\n",
        "        # 랜덤하게 선택된 timestep index에 해당하는 alphas 선택\n",
        "        a = self.alphas.index_select(0, time_step)\n",
        "        # 랜덤하게 선택된 timestep index를 pos에 매칭\n",
        "        a_pos = a.index_select(0, node2graph).unsqueeze(-1)\n",
        "        # pos shape의 noise 생성\n",
        "        pos_noise = torch.zeros(size=pos.size(), device=pos.device)\n",
        "        pos_noise.normal_()\n",
        "\n",
        "        pos_tilde = pos + pos_noise * (1.0 - a_pos).sqrt() / a_pos.sqrt()\n",
        "\n",
        "        edge_inv_global, edge_inv_local, edge_index, edge_type, edge_length, local_edge_mask = self(\n",
        "            atom_type = atom_type,\n",
        "            pos = pos_tilde,\n",
        "            bond_index = bond_index,\n",
        "            bond_type = bond_type,\n",
        "            batch = batch,\n",
        "            time_step = time_step,\n",
        "            return_edges = True,\n",
        "            extend_order = extend_order,\n",
        "            extend_radius = extend_radius,\n",
        "        )   # (E_global, 1), (E_local, 1)\n",
        "\n",
        "        edge2graph = node2graph.index_select(0, edge_index[0]) # (num_edges, )\n",
        "        a_edge = a.index_select(0, edge2graph).unsqueeze(-1) # (num_edges, 1)\n",
        "\n",
        "        dist = get_distance(pos, edge_index).unsqueeze(-1) # (num_edges, 1)\n",
        "        dist_tilde = edge_length # (num_edges, 1)\n",
        "        dist_target = (dist - dist_tilde) / (1.0 - a_edge).sqrt() * a_edge.sqrt() #(num_edges, 1)\n",
        "\n",
        "        ## global loss\n",
        "        # local_edge_mask가 아닌 것 중 cutoff보다 작은 dist_tilde 값을 취함\n",
        "        global_mask = torch.logical_and(\n",
        "            torch.logical_or( dist_tilde <= self.args.cutoff, local_edge_mask.unsqueeze(-1) ),\n",
        "            ~local_edge_mask.unsqueeze(-1)\n",
        "        ) # (num_edges, 1)\n",
        "        # global_mask가 True라면 dist_target의 값, False라면 0\n",
        "        dist_target_global = torch.where(global_mask, dist_target, torch.zeros_like(dist_target)) # (num_edges, 1)\n",
        "        # global_mask가 True라면 edge_inv_global, False라면 0\n",
        "        edge_inv_global = torch.where(global_mask, edge_inv_global, torch.zeros_like(edge_inv_global)) # (num_edges, 1)\n",
        "\n",
        "        # noise로 pertuated된 차이에 대한 위치 수정 값\n",
        "        x_score_global = eq_score(dist_target_global, pos_tilde, edge_index, edge_length) # (num_nodes, 3)\n",
        "        # noise로 pertuated된 차이에 대해 모델이 예측한 위치 수정 값\n",
        "        pred_score_global = eq_score(edge_inv_global, pos_tilde, edge_index, edge_length) # (num_nodes, 3)\n",
        "\n",
        "        loss_global = (x_score_global - pred_score_global)**2 # (num_nodes, 3)\n",
        "        loss_global = 2 * torch.sum(loss_global, dim=-1, keepdim=True) # (num_nodes, 1)\n",
        "\n",
        "        ## local loss\n",
        "        # noise로 pertuated된 차이에 대한 위치 수정 값\n",
        "        x_score_local = eq_score(dist_target[local_edge_mask], pos_tilde, edge_index[:, local_edge_mask], edge_length[local_edge_mask])  # (num_nodes, 3)\n",
        "        # noise로 pertuated된 차이에 대해 모델이 예측한 위치 수정 값\n",
        "        pred_score_local = eq_score(edge_inv_local, pos_tilde, edge_index[:, local_edge_mask], edge_length[local_edge_mask]) # (num_nodes, 3)\n",
        "\n",
        "        loss_local = (x_score_local - pred_score_local)**2 # (num_nodes, 3)\n",
        "        loss_local = 5 * torch.sum(loss_local, dim=-1, keepdim=True)\n",
        "\n",
        "        loss = loss_global + loss_local\n",
        "        return loss_global, loss_local\n",
        "\n",
        "    def langevin_dynamics_sample(self, atom_type, pos_init, bond_index, bond_type,\n",
        "                                 batch, num_graphs, extend_order, extend_radius=True,\n",
        "                                 n_steps=100, step_lr=1e-6, clip=1000, clip_local=None,\n",
        "                                 clip_pos=None, min_sigma=0, global_start_sigma=float('inf'),\n",
        "                                 w_global=0.2, w_reg=1.0, **kwargs) :\n",
        "\n",
        "        def compute_alpha(beta, t) :\n",
        "            beta = torch.cat( [ torch.zeros(1).to(beta.device), beta ], dim=0 )\n",
        "            a = (1 - beta).cumprod(dim=0).index_select(0, t+1)\n",
        "\n",
        "            return a\n",
        "\n",
        "        # sigmas : noise가 추가된 정도. 값이 클수록 noise가 많다는걸 의미\n",
        "        sigmas = (1.0 - self.alphas).sqrt() / self.alphas.sqrt() # (num_timesteps, )\n",
        "        self.sigmas = sigmas\n",
        "        pos_traj = []\n",
        "\n",
        "        with torch.no_grad() :\n",
        "            seq = range(self.num_timesteps - n_steps, self.num_timesteps)\n",
        "            seq_next = [-1] + list(seq[:-1])\n",
        "\n",
        "            pos = pos_init * sigmas[-1]\n",
        "            # reverse diffusion process : noise로부터 sequential하게 molecule을 복원\n",
        "            # seq(i): 4999, 4998, ... 0\n",
        "            # seq_next(j): 4998, 4997, ... -1\n",
        "            for i, j in tqdm(zip(reversed(seq), reversed(seq_next)), desc='sample') :\n",
        "                t = torch.full(size=(num_graphs,), fill_value=i, dtype=torch.long, device=pos.device) # (batch_size,)\n",
        "\n",
        "                edge_inv_global, edge_inv_local, edge_index, edge_type, edge_length, local_edge_mask = self(\n",
        "                    atom_type=atom_type,\n",
        "                    pos=pos,\n",
        "                    bond_index=bond_index,\n",
        "                    bond_type=bond_type,\n",
        "                    batch=batch,\n",
        "                    time_step=t,\n",
        "                    return_edges=True,\n",
        "                    extend_order=extend_order,\n",
        "                    extend_radius=extend_radius,\n",
        "                ) # (E_global, 1), (E_local, 1)\n",
        "\n",
        "                # global\n",
        "                # noise의 정도(sigmas[i])가 임계점(global_start_sigma)보다 작을 때부터 시작\n",
        "                if sigmas[i] < global_start_sigma :\n",
        "                    edge_inv_global = edge_inv_global * (1-local_edge_mask.view(-1, 1).float())\n",
        "                    pred_score_global = eq_score(edge_inv_global, pos, edge_index, edge_length) # (num_nodes, 3)\n",
        "                    pred_score_global = clip_norm(pred_score_global, limit=clip)\n",
        "                else :\n",
        "                    pred_score_global = 0\n",
        "\n",
        "                # local\n",
        "                pred_score_local = eq_score(edge_inv_local, pos, edge_index[:, local_edge_mask], edge_length[local_edge_mask])\n",
        "                eps_pos = pred_score_local + pred_score_global * w_global\n",
        "\n",
        "                ## sampling\n",
        "                noise = torch.randn_like(pos) #(num_nodes, 3)\n",
        "                b = self.betas\n",
        "                t = t[0]\n",
        "                next_t = (torch.ones(1) * j).to(pos.device)\n",
        "\n",
        "                # at_next > at\n",
        "                at = compute_alpha(b, t.long())\n",
        "                at_next = compute_alpha(b, next_t.long())\n",
        "                beta_t = 1 - at / at_next\n",
        "                # e : 모델로 예측된 noise를 제거하는 pos 변화량\n",
        "                e = -eps_pos # (num_nodes, 3)\n",
        "                # 시간 단계 t에 대해 더해졌던 noise를 제거한 pos\n",
        "                pos0_from_e = (1.0 / at).sqrt() * pos - (1.0 / at - 1).sqrt() * e #(num_nodes, 3)\n",
        "                # 다음 단계의 평균 예상 위치(잡음이 제거된 후의 위치 + 현재 위치)\n",
        "                # at, beta 등은 노이즈의 영향을 받을 것으로 예상되는 정도를 조정하는 역할\n",
        "                mean = (\n",
        "                    (at_next.sqrt() * beta_t) * pos0_from_e +\n",
        "                    ((1-beta_t).sqrt() * (1-at_next))*pos\n",
        "                ) / (1.0 - at) # (num_nodes, 3)\n",
        "                mask = 1 - (t==0).float()\n",
        "                logvar = beta_t.log()\n",
        "                pos_next = mean + mask * torch.exp(0.5 * logvar) * noise\n",
        "                pos = pos_next\n",
        "\n",
        "                if torch.isnan(pos).any() :\n",
        "                    print('NaN detected. Please restart.')\n",
        "                    raise FloatingPointError()\n",
        "                pos = center_pos(pos, batch)\n",
        "                pos_traj.append(pos.clone().cpu())\n",
        "\n",
        "        return pos, pos_traj"
      ]
    },
    {
      "cell_type": "code",
      "execution_count": 11,
      "metadata": {
        "id": "gvITISl8YPBd"
      },
      "outputs": [],
      "source": [
        "batch_size = 64\n",
        "train_dataloader = DataLoader(train_set, batch_size, shuffle=True)\n",
        "val_dataloader = DataLoader(val_set, batch_size, shuffle=False)\n",
        "\n",
        "model = DiffusionModel(args).to(args.device)\n",
        "optimizer_global = torch.optim.Adam(model.model_global.parameters(), lr=1.e-3, betas=(0.95, 0.999))\n",
        "optimizer_local = torch.optim.Adam(model.model_local.parameters(), lr=1.e-3, betas=(0.95, 0.999))\n",
        "\n",
        "scheduler_global = torch.optim.lr_scheduler.ReduceLROnPlateau(\n",
        "            optimizer_global,\n",
        "            factor=args.scheduler_factor,\n",
        "            patience=args.scheduler_patience,\n",
        "        )\n",
        "scheduler_local = torch.optim.lr_scheduler.ReduceLROnPlateau(\n",
        "            optimizer_local,\n",
        "            factor=args.scheduler_factor,\n",
        "            patience=args.scheduler_patience,\n",
        "        )"
      ]
    },
    {
      "cell_type": "code",
      "execution_count": null,
      "metadata": {
        "colab": {
          "base_uri": "https://localhost:8080/"
        },
        "id": "HnyMEkbMyp76",
        "outputId": "97c3c8b6-f621-4785-f13d-fa9b315351a6"
      },
      "outputs": [
        {
          "output_type": "stream",
          "name": "stderr",
          "text": [
            "  4%|▍         | 1/25 [04:55<1:58:07, 295.31s/it]"
          ]
        },
        {
          "output_type": "stream",
          "name": "stdout",
          "text": [
            "Train Loss : 1055.0303, Validation Loss : 192.1425\n"
          ]
        },
        {
          "output_type": "stream",
          "name": "stderr",
          "text": [
            "\r  8%|▊         | 2/25 [09:43<1:51:42, 291.40s/it]"
          ]
        },
        {
          "output_type": "stream",
          "name": "stdout",
          "text": [
            "Train Loss : 181.6595, Validation Loss : 163.0773\n"
          ]
        },
        {
          "output_type": "stream",
          "name": "stderr",
          "text": [
            "\r 12%|█▏        | 3/25 [14:42<1:47:58, 294.47s/it]"
          ]
        },
        {
          "output_type": "stream",
          "name": "stdout",
          "text": [
            "Train Loss : 162.0639, Validation Loss : 166.6243\n"
          ]
        },
        {
          "output_type": "stream",
          "name": "stderr",
          "text": [
            "\r 16%|█▌        | 4/25 [19:41<1:43:44, 296.39s/it]"
          ]
        },
        {
          "output_type": "stream",
          "name": "stdout",
          "text": [
            "Train Loss : 153.2228, Validation Loss : 161.5607\n"
          ]
        },
        {
          "output_type": "stream",
          "name": "stderr",
          "text": [
            "\r 20%|██        | 5/25 [24:31<1:37:58, 293.95s/it]"
          ]
        },
        {
          "output_type": "stream",
          "name": "stdout",
          "text": [
            "Train Loss : 80604.9807, Validation Loss : 160.3817\n"
          ]
        },
        {
          "output_type": "stream",
          "name": "stderr",
          "text": [
            "\r 24%|██▍       | 6/25 [29:27<1:33:22, 294.87s/it]"
          ]
        },
        {
          "output_type": "stream",
          "name": "stdout",
          "text": [
            "Train Loss : 143.2832, Validation Loss : 148.2627\n"
          ]
        },
        {
          "output_type": "stream",
          "name": "stderr",
          "text": [
            "\r 28%|██▊       | 7/25 [34:23<1:28:34, 295.24s/it]"
          ]
        },
        {
          "output_type": "stream",
          "name": "stdout",
          "text": [
            "Train Loss : 134.9285, Validation Loss : 131.4595\n"
          ]
        },
        {
          "output_type": "stream",
          "name": "stderr",
          "text": [
            "\r 32%|███▏      | 8/25 [39:10<1:22:52, 292.49s/it]"
          ]
        },
        {
          "output_type": "stream",
          "name": "stdout",
          "text": [
            "Train Loss : 130.9289, Validation Loss : 121.6616\n"
          ]
        },
        {
          "output_type": "stream",
          "name": "stderr",
          "text": [
            "\r 36%|███▌      | 9/25 [44:06<1:18:16, 293.54s/it]"
          ]
        },
        {
          "output_type": "stream",
          "name": "stdout",
          "text": [
            "Train Loss : 128.2804, Validation Loss : 120.2308\n"
          ]
        },
        {
          "output_type": "stream",
          "name": "stderr",
          "text": [
            "\r 40%|████      | 10/25 [48:53<1:12:53, 291.54s/it]"
          ]
        },
        {
          "output_type": "stream",
          "name": "stdout",
          "text": [
            "Train Loss : 173.1486, Validation Loss : 136.1300\n"
          ]
        },
        {
          "output_type": "stream",
          "name": "stderr",
          "text": [
            "\r 44%|████▍     | 11/25 [53:50<1:08:25, 293.24s/it]"
          ]
        },
        {
          "output_type": "stream",
          "name": "stdout",
          "text": [
            "Train Loss : 203.4818, Validation Loss : 127.3429\n"
          ]
        },
        {
          "output_type": "stream",
          "name": "stderr",
          "text": [
            "\r 48%|████▊     | 12/25 [58:46<1:03:44, 294.21s/it]"
          ]
        },
        {
          "output_type": "stream",
          "name": "stdout",
          "text": [
            "Train Loss : 122.3789, Validation Loss : 119.6546\n"
          ]
        },
        {
          "output_type": "stream",
          "name": "stderr",
          "text": [
            "\r 52%|█████▏    | 13/25 [1:03:34<58:25, 292.10s/it]"
          ]
        },
        {
          "output_type": "stream",
          "name": "stdout",
          "text": [
            "Train Loss : 121.3284, Validation Loss : 114.2367\n"
          ]
        },
        {
          "output_type": "stream",
          "name": "stderr",
          "text": [
            "\r 56%|█████▌    | 14/25 [1:08:30<53:48, 293.53s/it]"
          ]
        },
        {
          "output_type": "stream",
          "name": "stdout",
          "text": [
            "Train Loss : 4571.1551, Validation Loss : 117.6551\n"
          ]
        },
        {
          "output_type": "stream",
          "name": "stderr",
          "text": [
            "\r 60%|██████    | 15/25 [1:13:26<49:00, 294.03s/it]"
          ]
        },
        {
          "output_type": "stream",
          "name": "stdout",
          "text": [
            "Train Loss : 119.3186, Validation Loss : 114.0692\n"
          ]
        },
        {
          "output_type": "stream",
          "name": "stderr",
          "text": [
            "\r 64%|██████▍   | 16/25 [1:18:12<43:45, 291.77s/it]"
          ]
        },
        {
          "output_type": "stream",
          "name": "stdout",
          "text": [
            "Train Loss : 116.5551, Validation Loss : 115.9465\n"
          ]
        },
        {
          "output_type": "stream",
          "name": "stderr",
          "text": [
            "\r 68%|██████▊   | 17/25 [1:23:07<39:02, 292.87s/it]"
          ]
        },
        {
          "output_type": "stream",
          "name": "stdout",
          "text": [
            "Train Loss : 116.3526, Validation Loss : 114.5782\n"
          ]
        },
        {
          "output_type": "stream",
          "name": "stderr",
          "text": [
            "\r 72%|███████▏  | 18/25 [1:27:55<33:59, 291.41s/it]"
          ]
        },
        {
          "output_type": "stream",
          "name": "stdout",
          "text": [
            "Train Loss : 118.4147, Validation Loss : 110.7799\n"
          ]
        },
        {
          "output_type": "stream",
          "name": "stderr",
          "text": [
            "\r 76%|███████▌  | 19/25 [1:32:51<29:15, 292.58s/it]"
          ]
        },
        {
          "output_type": "stream",
          "name": "stdout",
          "text": [
            "Train Loss : 114.3406, Validation Loss : 130.5265\n"
          ]
        },
        {
          "output_type": "stream",
          "name": "stderr",
          "text": [
            "\r 80%|████████  | 20/25 [1:37:48<24:29, 293.99s/it]"
          ]
        },
        {
          "output_type": "stream",
          "name": "stdout",
          "text": [
            "Train Loss : 114.7167, Validation Loss : 130.2997\n"
          ]
        },
        {
          "output_type": "stream",
          "name": "stderr",
          "text": [
            "\r 84%|████████▍ | 21/25 [1:42:36<19:28, 292.24s/it]"
          ]
        },
        {
          "output_type": "stream",
          "name": "stdout",
          "text": [
            "Train Loss : 113.2446, Validation Loss : 110.9443\n"
          ]
        },
        {
          "output_type": "stream",
          "name": "stderr",
          "text": [
            "\r 88%|████████▊ | 22/25 [1:47:33<14:40, 293.46s/it]"
          ]
        },
        {
          "output_type": "stream",
          "name": "stdout",
          "text": [
            "Train Loss : 111.4063, Validation Loss : 117.8121\n"
          ]
        },
        {
          "output_type": "stream",
          "name": "stderr",
          "text": [
            "\r 92%|█████████▏| 23/25 [1:52:28<09:48, 294.21s/it]"
          ]
        },
        {
          "output_type": "stream",
          "name": "stdout",
          "text": [
            "Train Loss : 110.8017, Validation Loss : 105.1173\n"
          ]
        },
        {
          "output_type": "stream",
          "name": "stderr",
          "text": [
            "\r 96%|█████████▌| 24/25 [1:57:16<04:52, 292.19s/it]"
          ]
        },
        {
          "output_type": "stream",
          "name": "stdout",
          "text": [
            "Train Loss : 110.5824, Validation Loss : 110.1765\n"
          ]
        },
        {
          "output_type": "stream",
          "name": "stderr",
          "text": [
            "100%|██████████| 25/25 [2:02:12<00:00, 293.31s/it]"
          ]
        },
        {
          "output_type": "stream",
          "name": "stdout",
          "text": [
            "Train Loss : 118.1684, Validation Loss : 127.8632\n"
          ]
        },
        {
          "output_type": "stream",
          "name": "stderr",
          "text": [
            "\n"
          ]
        }
      ],
      "source": [
        "### train\n",
        "for i in tqdm(range(25)) :\n",
        "    epoch_train_loss = 0\n",
        "    global_val_loss = 0\n",
        "    local_val_loss = 0\n",
        "\n",
        "    model.train()\n",
        "    for idx, data in enumerate(train_dataloader) :\n",
        "        data = data.to(args.device)\n",
        "        optimizer_global.zero_grad()\n",
        "        optimizer_local.zero_grad()\n",
        "\n",
        "        loss_global, loss_local = model.get_loss(atom_type=data.atom_type,\n",
        "                    pos=data.pos,\n",
        "                    bond_index=data.edge_index,\n",
        "                    bond_type=data.edge_type,\n",
        "                    batch=data.batch,\n",
        "                    num_nodes_per_graph=data.num_nodes_per_graph,\n",
        "                    num_graphs=data.num_graphs,\n",
        "                    return_unreduced_loss=True)\n",
        "\n",
        "        loss_global = loss_global.mean()\n",
        "        loss_local = loss_local.mean()\n",
        "\n",
        "        loss_global.backward()\n",
        "        loss_local.backward()\n",
        "\n",
        "        orig_grad_norm = torch.nn.utils.clip_grad_norm_(model.parameters(), args.max_grad_norm)\n",
        "\n",
        "        optimizer_global.step()\n",
        "        optimizer_local.step()\n",
        "\n",
        "        epoch_train_loss += (loss_global.item() + loss_local.item())\n",
        "    epoch_train_loss /= len(train_dataloader)\n",
        "\n",
        "### validation\n",
        "    model.eval()\n",
        "    with torch.no_grad() :\n",
        "        for idx, data in enumerate(val_dataloader) :\n",
        "            data = data.to(args.device)\n",
        "\n",
        "            loss_global, loss_local = model.get_loss(atom_type=data.atom_type,\n",
        "                        pos=data.pos,\n",
        "                        bond_index=data.edge_index,\n",
        "                        bond_type=data.edge_type,\n",
        "                        batch=data.batch,\n",
        "                        num_nodes_per_graph=data.num_nodes_per_graph,\n",
        "                        num_graphs=data.num_graphs,\n",
        "                        return_unreduced_loss=True)\n",
        "\n",
        "            loss_global = loss_global.mean()\n",
        "            loss_local = loss_local.mean()\n",
        "\n",
        "            global_val_loss += loss_global.item()\n",
        "            local_val_loss += loss_local.item()\n",
        "    global_val_loss /= len(val_dataloader)\n",
        "    local_val_loss /= len(val_dataloader)\n",
        "\n",
        "    scheduler_global.step(global_val_loss)\n",
        "    scheduler_local.step(local_val_loss)\n",
        "\n",
        "    print(f'Train Loss : {epoch_train_loss:.4f}, Validation Loss : {(global_val_loss + local_val_loss):.4f}')"
      ]
    },
    {
      "cell_type": "code",
      "source": [
        "ckpt_path = '/content/drive/MyDrive/Colab Notebooks/Python/Portfolio/model/diffusion_tutorial_231026.pth'\n",
        "\n",
        "torch.save({\n",
        "        'config': args,\n",
        "        'model': model.state_dict(),\n",
        "        'optimizer_global': optimizer_global.state_dict(),\n",
        "        'optimizer_local': optimizer_local.state_dict(),\n",
        "        'scheduler_global': scheduler_global.state_dict(),\n",
        "        'scheduler_local': scheduler_local.state_dict(),\n",
        "        'iteration': i,\n",
        "        'avg_val_loss': global_val_loss + local_val_loss,\n",
        "    }, ckpt_path)"
      ],
      "metadata": {
        "id": "HKvAkot6kulK"
      },
      "execution_count": null,
      "outputs": []
    },
    {
      "cell_type": "code",
      "source": [
        "ckpt_path = '/content/drive/MyDrive/Colab Notebooks/Python/Portfolio/model/diffusion_tutorial.pth'\n",
        "ckpt = torch.load(ckpt_path, map_location=args.device)\n",
        "print(ckpt.keys())\n",
        "\n",
        "model = DiffusionModel(args).to(args.device)\n",
        "optimizer_global = torch.optim.Adam(model.model_global.parameters(), lr=1.e-3, betas=(0.95, 0.999))\n",
        "optimizer_local = torch.optim.Adam(model.model_local.parameters(), lr=1.e-3, betas=(0.95, 0.999))\n",
        "\n",
        "model.load_state_dict(ckpt['model'])\n",
        "optimizer_global.load_state_dict(ckpt['optimizer_global'])\n",
        "optimizer_local.load_state_dict(ckpt['optimizer_local'])"
      ],
      "metadata": {
        "colab": {
          "base_uri": "https://localhost:8080/"
        },
        "id": "h_p0AuYI849B",
        "outputId": "281653a2-1ec5-4c53-b540-56a0cd029e4b"
      },
      "execution_count": 12,
      "outputs": [
        {
          "output_type": "stream",
          "name": "stdout",
          "text": [
            "dict_keys(['config', 'model', 'optimizer_global', 'optimizer_local', 'iteration', 'avg_val_loss'])\n"
          ]
        }
      ]
    },
    {
      "cell_type": "code",
      "source": [
        "### test\n",
        "start_idx = 800\n",
        "end_idx = 810\n",
        "\n",
        "test_set_selected = []\n",
        "done_smiles = set()\n",
        "results=[]\n",
        "\n",
        "for i, data in enumerate(test_set) :\n",
        "    if not (start_idx <= i < end_idx): continue\n",
        "    test_set_selected.append(data)\n",
        "\n",
        "print(len(test_set_selected), test_set_selected)"
      ],
      "metadata": {
        "colab": {
          "base_uri": "https://localhost:8080/"
        },
        "id": "KoAL5fBMba_N",
        "outputId": "7012c7c1-07a7-49a0-ea12-a479302f4985"
      },
      "execution_count": 21,
      "outputs": [
        {
          "output_type": "stream",
          "name": "stdout",
          "text": [
            "10 [Data(atom_type=[20], edge_index=[2, 38], edge_type=[38], idx=[1], num_nodes_per_graph=[1], num_pos_ref=[1], nx=Graph with 20 nodes and 19 edges, pos=[20, 3], pos_ref=[1200, 3], rdmol=<rdkit.Chem.rdchem.Mol object at 0x7b6dd15085f0>, smiles=\"CC[C@@](C#N)(CO)OC\"), Data(atom_type=[19], edge_index=[2, 36], edge_type=[36], idx=[1], num_nodes_per_graph=[1], num_pos_ref=[1], nx=Graph with 19 nodes and 18 edges, pos=[19, 3], pos_ref=[1672, 3], rdmol=<rdkit.Chem.rdchem.Mol object at 0x7b6dd1508820>, smiles=\"C#C[C@H](O)C(CO)CO\"), Data(atom_type=[19], edge_index=[2, 38], edge_type=[38], idx=[1], num_nodes_per_graph=[1], num_pos_ref=[1], nx=Graph with 19 nodes and 19 edges, pos=[19, 3], pos_ref=[1064, 3], rdmol=<rdkit.Chem.rdchem.Mol object at 0x7b6dd1508890>, smiles=\"C#C[C@]1(CCO)C[C@H]1O\"), Data(atom_type=[23], edge_index=[2, 44], edge_type=[44], idx=[1], num_nodes_per_graph=[1], num_pos_ref=[1], nx=Graph with 23 nodes and 22 edges, pos=[23, 3], pos_ref=[6072, 3], rdmol=<rdkit.Chem.rdchem.Mol object at 0x7b6dd1508900>, smiles=\"C#CCCC[C@@H](C)CO\"), Data(atom_type=[19], edge_index=[2, 36], edge_type=[36], idx=[1], num_nodes_per_graph=[1], num_pos_ref=[1], nx=Graph with 19 nodes and 18 edges, pos=[19, 3], pos_ref=[1007, 3], rdmol=<rdkit.Chem.rdchem.Mol object at 0x7b6dd1508970>, smiles=\"CN[C@@H](C=O)C(C)=NO\"), Data(atom_type=[25], edge_index=[2, 50], edge_type=[50], idx=[1], num_nodes_per_graph=[1], num_pos_ref=[1], nx=Graph with 25 nodes and 25 edges, pos=[25, 3], pos_ref=[1875, 3], rdmol=<rdkit.Chem.rdchem.Mol object at 0x7b6dd15089e0>, smiles=\"CCC[C@H]1C[C@H]1OCC\"), Data(atom_type=[21], edge_index=[2, 40], edge_type=[40], idx=[1], num_nodes_per_graph=[1], num_pos_ref=[1], nx=Graph with 21 nodes and 20 edges, pos=[21, 3], pos_ref=[1491, 3], rdmol=<rdkit.Chem.rdchem.Mol object at 0x7b6dd1508a50>, smiles=\"CC(C)(CO)[C@@H](N)C#N\"), Data(atom_type=[20], edge_index=[2, 38], edge_type=[38], idx=[1], num_nodes_per_graph=[1], num_pos_ref=[1], nx=Graph with 20 nodes and 19 edges, pos=[20, 3], pos_ref=[5820, 3], rdmol=<rdkit.Chem.rdchem.Mol object at 0x7b6dd1508ac0>, smiles=\"N#C[C@@](N)(CN)CCO\"), Data(atom_type=[23], edge_index=[2, 46], edge_type=[46], idx=[1], num_nodes_per_graph=[1], num_pos_ref=[1], nx=Graph with 23 nodes and 23 edges, pos=[23, 3], pos_ref=[3266, 3], rdmol=<rdkit.Chem.rdchem.Mol object at 0x7b6dd1508b30>, smiles=\"CO[C@H]1C[C@H]1CCCO\"), Data(atom_type=[20], edge_index=[2, 38], edge_type=[38], idx=[1], num_nodes_per_graph=[1], num_pos_ref=[1], nx=Graph with 20 nodes and 19 edges, pos=[20, 3], pos_ref=[2420, 3], rdmol=<rdkit.Chem.rdchem.Mol object at 0x7b6dd1508ba0>, smiles=\"CCCCOCC=O\")]\n"
          ]
        }
      ]
    },
    {
      "cell_type": "code",
      "execution_count": 22,
      "metadata": {
        "colab": {
          "base_uri": "https://localhost:8080/"
        },
        "id": "9r5GbmBXBkkd",
        "outputId": "a2955cf1-7c7f-481e-b68a-12b734ec6a8b"
      },
      "outputs": [
        {
          "output_type": "stream",
          "name": "stderr",
          "text": [
            "\rsample: 0it [00:00, ?it/s]<ipython-input-8-745fe0a9fd60>:68: UserWarning: torch.sparse.SparseTensor(indices, values, shape, *, device=) is deprecated.  Please use torch.sparse_coo_tensor(indices, values, shape, dtype=, device=). (Triggered internally at ../torch/csrc/utils/tensor_new.cpp:605.)\n",
            "  bgraph_adj = torch.sparse.LongTensor(\n",
            "sample: 5000it [01:04, 77.76it/s]\n",
            "sample: 5000it [01:02, 79.83it/s]\n",
            "sample: 5000it [01:00, 82.07it/s]\n",
            "sample: 5000it [01:45, 47.21it/s]\n",
            "sample: 5000it [01:02, 80.50it/s]\n",
            "sample: 5000it [01:03, 78.98it/s]\n",
            "sample: 5000it [01:03, 78.83it/s]\n",
            "sample: 5000it [01:50, 45.18it/s]\n",
            "sample: 5000it [01:13, 68.24it/s]\n",
            "sample: 5000it [01:05, 76.15it/s]\n"
          ]
        }
      ],
      "source": [
        "for idx, data in enumerate(test_set_selected) :\n",
        "    num_refs = data.pos_ref.size(0) // data.num_nodes\n",
        "\n",
        "    data_input = data.clone()\n",
        "    data_input['pos_ref'] = None\n",
        "\n",
        "    batch = repeat_data(data_input, num_refs).to(args.device)\n",
        "    model.eval()\n",
        "\n",
        "    pos_init = torch.randn(batch.num_nodes, 3).to(args.device)\n",
        "    pos_gen, pos_traj = model.langevin_dynamics_sample(\n",
        "                atom_type=batch.atom_type,\n",
        "                pos_init=pos_init,\n",
        "                bond_index=batch.edge_index,\n",
        "                bond_type=batch.edge_type,\n",
        "                batch=batch.batch,\n",
        "                num_graphs=batch.num_graphs,\n",
        "                extend_order=False,\n",
        "                n_steps=args.n_steps,\n",
        "                step_lr=1e-6,\n",
        "                w_global=args.w_global,\n",
        "                global_start_sigma=args.global_start_sigma,\n",
        "                clip=args.clip,\n",
        "                clip_local=args.clip_local\n",
        "    )\n",
        "\n",
        "    pos_gen = pos_gen.cpu()\n",
        "    data_input['pos_gen'] = pos_gen\n",
        "    results.append(data_input)"
      ]
    },
    {
      "cell_type": "code",
      "source": [
        "test_pos_path = '/content/drive/MyDrive/Colab Notebooks/Python/Portfolio/model/test_pos.pth'\n",
        "\n",
        "torch.save({\n",
        "        'results': results,\n",
        "    }, test_pos_path)"
      ],
      "metadata": {
        "id": "gQAL0MGZp81u"
      },
      "execution_count": 23,
      "outputs": []
    },
    {
      "cell_type": "code",
      "source": [
        "test_pos_path = '/content/drive/MyDrive/Colab Notebooks/Python/Portfolio/model/test_pos.pth'\n",
        "results = torch.load(test_pos_path, map_location=args.device)\n",
        "print(results.keys())\n",
        "data = results['results'][0]\n",
        "print(data)"
      ],
      "metadata": {
        "colab": {
          "base_uri": "https://localhost:8080/"
        },
        "id": "1bBu2iNDqUVW",
        "outputId": "4cf9a71c-9b5a-4f4c-c673-ee7938521cdf"
      },
      "execution_count": 24,
      "outputs": [
        {
          "output_type": "stream",
          "name": "stdout",
          "text": [
            "dict_keys(['results'])\n",
            "Data(atom_type=[20], edge_index=[2, 38], edge_type=[38], idx=[1], num_nodes_per_graph=[1], num_pos_ref=[1], nx=Graph with 20 nodes and 19 edges, pos=[20, 3], pos_gen=[1200, 3], rdmol=<rdkit.Chem.rdchem.Mol object at 0x7b6dbd09c0e0>, smiles=\"CC[C@@](C#N)(CO)OC\")\n"
          ]
        }
      ]
    },
    {
      "cell_type": "code",
      "execution_count": 26,
      "metadata": {
        "colab": {
          "base_uri": "https://localhost:8080/",
          "height": 1000
        },
        "id": "M5ytW9RYxGHj",
        "outputId": "bf10dcd9-94a7-4442-e73f-d1557def5d97"
      },
      "outputs": [
        {
          "output_type": "stream",
          "name": "stdout",
          "text": [
            "CC[C@@](C#N)(CO)OC\n"
          ]
        },
        {
          "output_type": "display_data",
          "data": {
            "text/plain": [
              "<PIL.PngImagePlugin.PngImageFile image mode=RGB size=300x300>"
            ],
            "image/png": "[encoded data removed]"
          },
          "metadata": {}
        },
        {
          "output_type": "stream",
          "name": "stdout",
          "text": [
            "C#C[C@H](O)[C@@H](CO)CO\n"
          ]
        },
        {
          "output_type": "display_data",
          "data": {
            "text/plain": [
              "<PIL.PngImagePlugin.PngImageFile image mode=RGB size=300x300>"
            ],
            "image/png": "[encoded data removed]"
          },
          "metadata": {}
        },
        {
          "output_type": "stream",
          "name": "stdout",
          "text": [
            "C#C[C@]1(CCO)C[C@H]1O\n"
          ]
        },
        {
          "output_type": "display_data",
          "data": {
            "text/plain": [
              "<PIL.PngImagePlugin.PngImageFile image mode=RGB size=300x300>"
            ],
            "image/png": "[encoded data removed]"
          },
          "metadata": {}
        },
        {
          "output_type": "stream",
          "name": "stdout",
          "text": [
            "C#CCCC[C@@H](C)CO\n"
          ]
        },
        {
          "output_type": "display_data",
          "data": {
            "text/plain": [
              "<PIL.PngImagePlugin.PngImageFile image mode=RGB size=300x300>"
            ],
            "image/png": "[encoded data removed]"
          },
          "metadata": {}
        },
        {
          "output_type": "stream",
          "name": "stdout",
          "text": [
            "CN[C@@H](C=O)/C(C)=N/O\n"
          ]
        },
        {
          "output_type": "display_data",
          "data": {
            "text/plain": [
              "<PIL.PngImagePlugin.PngImageFile image mode=RGB size=300x300>"
            ],
            "image/png": "[encoded data removed]"
          },
          "metadata": {}
        },
        {
          "output_type": "stream",
          "name": "stdout",
          "text": [
            "CCC[C@H]1C[C@H]1OCC\n"
          ]
        },
        {
          "output_type": "display_data",
          "data": {
            "text/plain": [
              "<PIL.PngImagePlugin.PngImageFile image mode=RGB size=300x300>"
            ],
            "image/png": "[encoded data removed]"
          },
          "metadata": {}
        },
        {
          "output_type": "stream",
          "name": "stdout",
          "text": [
            "C[C@@](C)(CO)[C@@H](N)C#N\n"
          ]
        },
        {
          "output_type": "display_data",
          "data": {
            "text/plain": [
              "<PIL.PngImagePlugin.PngImageFile image mode=RGB size=300x300>"
            ],
            "image/png": "[encoded data removed]"
          },
          "metadata": {}
        },
        {
          "output_type": "stream",
          "name": "stdout",
          "text": [
            "N#C[C@@](N)(CN)CCO\n"
          ]
        },
        {
          "output_type": "display_data",
          "data": {
            "text/plain": [
              "<PIL.PngImagePlugin.PngImageFile image mode=RGB size=300x300>"
            ],
            "image/png": "[encoded data removed]"
          },
          "metadata": {}
        },
        {
          "output_type": "stream",
          "name": "stdout",
          "text": [
            "CO[C@H]1C[C@H]1CCCO\n"
          ]
        },
        {
          "output_type": "display_data",
          "data": {
            "text/plain": [
              "<PIL.PngImagePlugin.PngImageFile image mode=RGB size=300x300>"
            ],
            "image/png": "[encoded data removed]"
          },
          "metadata": {}
        },
        {
          "output_type": "stream",
          "name": "stdout",
          "text": [
            "CCCCOCC=O\n"
          ]
        },
        {
          "output_type": "display_data",
          "data": {
            "text/plain": [
              "<PIL.PngImagePlugin.PngImageFile image mode=RGB size=300x300>"
            ],
            "image/png": "[encoded data removed]"
          },
          "metadata": {}
        }
      ],
      "source": [
        "def set_rdmol_positions(rdkit_mol, pos):\n",
        "    mol = deepcopy(rdkit_mol)\n",
        "    for i in range(pos.shape[0]):\n",
        "        mol.GetConformer(0).SetAtomPosition(i, pos[i].tolist())\n",
        "    return mol\n",
        "\n",
        "for i in range(len(results['results'])) :\n",
        "    data = results['results'][i]\n",
        "\n",
        "    real_gen = data['pos'].reshape(-1, data['rdmol'].GetNumAtoms(), 3)\n",
        "    test_gen = data['pos_gen'].reshape(-1, data['rdmol'].GetNumAtoms(), 3)\n",
        "    num_real_gen = real_gen.shape[0]\n",
        "    num_test_gen = test_gen.shape[0]\n",
        "\n",
        "    rmsd_confusion_mat = -1 * np.ones([num_real_gen, num_test_gen], dtype=float)\n",
        "\n",
        "    for i in range(num_test_gen) :\n",
        "        gen_mol = set_rdmol_positions(data['rdmol'], test_gen[i])\n",
        "        gen_mol_no_H = Chem.RemoveHs(gen_mol)\n",
        "        print(rdkit.Chem.MolToSmiles(gen_mol_no_H))\n",
        "        img = rdkit.Chem.Draw.MolToImage(gen_mol_no_H, kekulize=False)\n",
        "        display(img)\n",
        "        break"
      ]
    }
  ],
  "metadata": {
    "accelerator": "GPU",
    "colab": {
      "machine_shape": "hm",
      "provenance": [],
      "gpuType": "T4"
    },
    "kernelspec": {
      "display_name": "Python 3",
      "name": "python3"
    },
    "language_info": {
      "name": "python"
    }
  },
  "nbformat": 4,
  "nbformat_minor": 0
}